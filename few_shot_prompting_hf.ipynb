{
 "cells": [
  {
   "cell_type": "code",
   "execution_count": 1,
   "metadata": {},
   "outputs": [
    {
     "name": "stderr",
     "output_type": "stream",
     "text": [
      "/home/dangnth/anaconda3/envs/wordle/lib/python3.10/site-packages/tqdm/auto.py:21: TqdmWarning: IProgress not found. Please update jupyter and ipywidgets. See https://ipywidgets.readthedocs.io/en/stable/user_install.html\n",
      "  from .autonotebook import tqdm as notebook_tqdm\n"
     ]
    }
   ],
   "source": [
    "%load_ext autoreload\n",
    "%autoreload 2\n",
    "import os\n",
    "os.environ[\"CUDA_VISIBLE_DEVICES\"] = \"1\"\n",
    "\n",
    "import torch\n",
    "import os, json, re\n",
    "import torch\n",
    "from transformers import AutoModelForCausalLM, AutoTokenizer, BitsAndBytesConfig, TrainingArguments, pipeline, logging"
   ]
  },
  {
   "cell_type": "markdown",
   "metadata": {},
   "source": [
    "# Load pretrained model and tokenizer"
   ]
  },
  {
   "cell_type": "code",
   "execution_count": 2,
   "metadata": {},
   "outputs": [
    {
     "name": "stderr",
     "output_type": "stream",
     "text": [
      "/home/dangnth/anaconda3/envs/wordle/lib/python3.10/site-packages/huggingface_hub/file_download.py:1132: FutureWarning: `resume_download` is deprecated and will be removed in version 1.0.0. Downloads always resume when possible. If you want to force a new download, use `force_download=True`.\n",
      "  warnings.warn(\n",
      "Special tokens have been added in the vocabulary, make sure the associated word embeddings are fine-tuned or trained.\n",
      "Loading checkpoint shards: 100%|████████████████| 4/4 [00:09<00:00,  2.34s/it]\n"
     ]
    }
   ],
   "source": [
    "# Config model + quantization\n",
    "llama3_8b = \"meta-llama/Meta-Llama-3-8B-Instruct\"\n",
    "nf4_config = BitsAndBytesConfig(\n",
    "   load_in_4bit=True,\n",
    "   bnb_4bit_quant_type=\"nf4\",\n",
    "   bnb_4bit_use_double_quant=True,\n",
    "   bnb_4bit_compute_dtype=torch.bfloat16\n",
    ")\n",
    "\n",
    "# Load in NF4 to fit 15GB GPU\n",
    "tokenizer = AutoTokenizer.from_pretrained(llama3_8b, padding_side=\"right\")\n",
    "model = AutoModelForCausalLM.from_pretrained(llama3_8b, \n",
    "                                             quantization_config=nf4_config,\n",
    "                                             device_map=\"auto\", )\n",
    "\n",
    "# Set pad token to eos token\n",
    "tokenizer.pad_token_id = tokenizer.eos_token_id"
   ]
  },
  {
   "cell_type": "markdown",
   "metadata": {},
   "source": [
    "# Create Wordle game and prompt"
   ]
  },
  {
   "cell_type": "code",
   "execution_count": 3,
   "metadata": {},
   "outputs": [],
   "source": [
    "from wordle import Wordle\n",
    "from prompting import Prompt_Helper\n",
    "game = Wordle()\n",
    "p = Prompt_Helper()"
   ]
  },
  {
   "cell_type": "code",
   "execution_count": 4,
   "metadata": {},
   "outputs": [
    {
     "data": {
      "text/plain": [
       "[{'role': 'system',\n",
       "  'content': ('Wordle is a 5 letter word guessing game. Each letter in a guess will either be a correct letter in correct position, an invalid letter or a correct letter present in the word but in a wrong position. After each guess, we get a result',)},\n",
       " {'role': 'system', 'content': 'Example #1:'},\n",
       " {'role': 'user', 'content': 'Enter guess #1'},\n",
       " {'role': 'assistant', 'content': 'BAGEL'},\n",
       " {'role': 'user',\n",
       "  'content': 'Letter B is not anywhere present in the word, Letter A is not anywhere present in the word, Letter G is not anywhere present in the word, Letter E at Position 3 is in the word and at the correct position, Letter L is not anywhere present in the word, '},\n",
       " {'role': 'user', 'content': 'Enter guess #2'},\n",
       " {'role': 'assistant', 'content': 'COVER'},\n",
       " {'role': 'user',\n",
       "  'content': 'Letter C is not anywhere present in the word, Letter O is not anywhere present in the word, Letter V is not anywhere present in the word, Letter E at Position 3 is in the word and at the correct position, Letter R at Position 4 is in the wrong position but is in the word, '},\n",
       " {'role': 'user', 'content': 'Enter guess #3'},\n",
       " {'role': 'assistant', 'content': 'THREE'},\n",
       " {'role': 'user',\n",
       "  'content': 'Congrats you found the correct word THREE in 3 guesses'},\n",
       " {'role': 'system', 'content': 'Example #1:'},\n",
       " {'role': 'user', 'content': 'Enter guess #1'},\n",
       " {'role': 'assistant', 'content': 'WHILE'},\n",
       " {'role': 'user',\n",
       "  'content': 'Letter W is not anywhere present in the word, Letter H is not anywhere present in the word, Letter I is not anywhere present in the word, Letter L is not anywhere present in the word, Letter E is not anywhere present in the word, '},\n",
       " {'role': 'user', 'content': 'Enter guess #2'},\n",
       " {'role': 'assistant', 'content': 'RADIO'},\n",
       " {'role': 'user',\n",
       "  'content': 'Letter R is not anywhere present in the word, Letter A at Position 1 is in the wrong position but is in the word, Letter D is not anywhere present in the word, Letter I is not anywhere present in the word, Letter O is not anywhere present in the word, '},\n",
       " {'role': 'user', 'content': 'Enter guess #3'},\n",
       " {'role': 'assistant', 'content': 'START'},\n",
       " {'role': 'user',\n",
       "  'content': 'Letter S at Position 0 is in the word and at the correct position, Letter T at Position 1 is in the word and at the correct position, Letter A at Position 2 is in the word and at the correct position, Letter R is not anywhere present in the word, Letter T is not anywhere present in the word, '},\n",
       " {'role': 'user', 'content': 'Enter guess #4'},\n",
       " {'role': 'assistant', 'content': 'STAGE'},\n",
       " {'role': 'user',\n",
       "  'content': 'Letter S at Position 0 is in the word and at the correct position, Letter T at Position 1 is in the word and at the correct position, Letter A at Position 2 is in the word and at the correct position, Letter G is not anywhere present in the word, Letter E is not anywhere present in the word, '},\n",
       " {'role': 'user', 'content': 'Enter guess #5'},\n",
       " {'role': 'assistant', 'content': 'STAFF'},\n",
       " {'role': 'user',\n",
       "  'content': 'Congrats you found the correct word STAFF in 5 guesses'},\n",
       " {'role': 'system', 'content': 'Now it is your turn'},\n",
       " {'role': 'user', 'content': 'Enter guess #1'}]"
      ]
     },
     "execution_count": 4,
     "metadata": {},
     "output_type": "execute_result"
    }
   ],
   "source": [
    "# Get a few-shot instruction\n",
    "conversation = p.get_few_shot_instructions(2)\n",
    "conversation"
   ]
  },
  {
   "cell_type": "markdown",
   "metadata": {},
   "source": [
    "# Simple demo"
   ]
  },
  {
   "cell_type": "code",
   "execution_count": null,
   "metadata": {},
   "outputs": [],
   "source": [
    "i = 0\n",
    "\n",
    "while True:\n",
    "    input_ids = tokenizer.apply_chat_template(\n",
    "        conversation,\n",
    "        add_generation_prompt=True,\n",
    "        return_tensors=\"pt\"\n",
    "    ).to(model.device)\n",
    "\n",
    "    terminators = [\n",
    "        tokenizer.eos_token_id,\n",
    "        tokenizer.convert_tokens_to_ids(\"<|eot_id|>\")\n",
    "    ]\n",
    "\n",
    "    outputs = model.generate(\n",
    "        input_ids,\n",
    "        max_new_tokens=5,\n",
    "        eos_token_id=terminators,\n",
    "        pad_token_id=tokenizer.eos_token_id,\n",
    "        do_sample=True,\n",
    "        temperature=0.6,\n",
    "        top_p=0.9,\n",
    "    )\n",
    "    response = outputs[0][input_ids.shape[-1]:]\n",
    "    guess_str = tokenizer.decode(response, skip_special_tokens=True)\n",
    "    try:\n",
    "        guess_eval = game.turn(guess_str)\n",
    "        user_response = p.explanatory_response(guess_str, guess_eval, i)\n",
    "        conversation.extend([\n",
    "            {'role': 'assistant', 'content': guess_str},\n",
    "            {'role': 'user', 'content': user_response}\n",
    "        ])\n",
    "    except ValueError as e:\n",
    "        conversation.extend([\n",
    "            {'role': 'assistant', 'content': guess_str},\n",
    "            {'role': 'user', 'content': str(e)}\n",
    "        ])\n",
    "        \n",
    "    if guess_eval == 'GGGGG':\n",
    "        conversation.append({'role': 'system', 'content': f\"Correct! The answer is {game.get_answer()}\"})\n",
    "    elif i >= 4:\n",
    "        conversation.append({'role': 'system', 'content': f\"5 guesses exhausted! The correct answer is {game.get_answer()}\"})\n",
    "        break\n",
    "    else:\n",
    "        i += 1"
   ]
  },
  {
   "cell_type": "code",
   "execution_count": 6,
   "metadata": {},
   "outputs": [
    {
     "name": "stdout",
     "output_type": "stream",
     "text": [
      "{'role': 'system', 'content': ('Wordle is a 5 letter word guessing game. Each letter in a guess will either be a correct letter in correct position, an invalid letter or a correct letter present in the word but in a wrong position. After each guess, we get a result',)}\n",
      "{'role': 'system', 'content': 'Example #1:'}\n",
      "{'role': 'user', 'content': 'Enter guess #1'}\n",
      "{'role': 'assistant', 'content': 'BAGEL'}\n",
      "{'role': 'user', 'content': 'Letter B is not anywhere present in the word, Letter A is not anywhere present in the word, Letter G is not anywhere present in the word, Letter E at Position 3 is in the word and at the correct position, Letter L is not anywhere present in the word, '}\n",
      "{'role': 'user', 'content': 'Enter guess #2'}\n",
      "{'role': 'assistant', 'content': 'COVER'}\n",
      "{'role': 'user', 'content': 'Letter C is not anywhere present in the word, Letter O is not anywhere present in the word, Letter V is not anywhere present in the word, Letter E at Position 3 is in the word and at the correct position, Letter R at Position 4 is in the wrong position but is in the word, '}\n",
      "{'role': 'user', 'content': 'Enter guess #3'}\n",
      "{'role': 'assistant', 'content': 'THREE'}\n",
      "{'role': 'user', 'content': 'Congrats you found the correct word THREE in 3 guesses'}\n",
      "{'role': 'system', 'content': 'Example #1:'}\n",
      "{'role': 'user', 'content': 'Enter guess #1'}\n",
      "{'role': 'assistant', 'content': 'WHILE'}\n",
      "{'role': 'user', 'content': 'Letter W is not anywhere present in the word, Letter H is not anywhere present in the word, Letter I is not anywhere present in the word, Letter L is not anywhere present in the word, Letter E is not anywhere present in the word, '}\n",
      "{'role': 'user', 'content': 'Enter guess #2'}\n",
      "{'role': 'assistant', 'content': 'RADIO'}\n",
      "{'role': 'user', 'content': 'Letter R is not anywhere present in the word, Letter A at Position 1 is in the wrong position but is in the word, Letter D is not anywhere present in the word, Letter I is not anywhere present in the word, Letter O is not anywhere present in the word, '}\n",
      "{'role': 'user', 'content': 'Enter guess #3'}\n",
      "{'role': 'assistant', 'content': 'START'}\n",
      "{'role': 'user', 'content': 'Letter S at Position 0 is in the word and at the correct position, Letter T at Position 1 is in the word and at the correct position, Letter A at Position 2 is in the word and at the correct position, Letter R is not anywhere present in the word, Letter T is not anywhere present in the word, '}\n",
      "{'role': 'user', 'content': 'Enter guess #4'}\n",
      "{'role': 'assistant', 'content': 'STAGE'}\n",
      "{'role': 'user', 'content': 'Letter S at Position 0 is in the word and at the correct position, Letter T at Position 1 is in the word and at the correct position, Letter A at Position 2 is in the word and at the correct position, Letter G is not anywhere present in the word, Letter E is not anywhere present in the word, '}\n",
      "{'role': 'user', 'content': 'Enter guess #5'}\n",
      "{'role': 'assistant', 'content': 'STAFF'}\n",
      "{'role': 'user', 'content': 'Congrats you found the correct word STAFF in 5 guesses'}\n",
      "{'role': 'system', 'content': 'Now it is your turn'}\n",
      "{'role': 'user', 'content': 'Enter guess #1'}\n",
      "{'role': 'assistant', 'content': 'BAGEL'}\n",
      "{'role': 'user', 'content': 'Letter B is not anywhere present in the word, Letter A at Position 1 is in the word and at the correct position, Letter G is not anywhere present in the word, Letter E at Position 3 is in the wrong position but is in the word, Letter L is not anywhere present in the word, '}\n",
      "{'role': 'assistant', 'content': 'BAGEL'}\n",
      "{'role': 'user', 'content': 'Letter B is not anywhere present in the word, Letter A at Position 1 is in the word and at the correct position, Letter G is not anywhere present in the word, Letter E at Position 3 is in the wrong position but is in the word, Letter L is not anywhere present in the word, '}\n",
      "{'role': 'assistant', 'content': 'COVER'}\n",
      "{'role': 'user', 'content': 'Letter C is not anywhere present in the word, Letter O is not anywhere present in the word, Letter V is not anywhere present in the word, Letter E at Position 3 is in the wrong position but is in the word, Letter R at Position 4 is in the wrong position but is in the word, '}\n",
      "{'role': 'assistant', 'content': 'COVER'}\n",
      "{'role': 'user', 'content': 'Letter C is not anywhere present in the word, Letter O is not anywhere present in the word, Letter V is not anywhere present in the word, Letter E at Position 3 is in the wrong position but is in the word, Letter R at Position 4 is in the wrong position but is in the word, '}\n",
      "{'role': 'assistant', 'content': 'THREE'}\n",
      "{'role': 'user', 'content': 'Letter T is not anywhere present in the word, Letter H is not anywhere present in the word, Letter R at Position 2 is in the wrong position but is in the word, Letter E at Position 3 is in the wrong position but is in the word, Letter E at Position 4 is in the word and at the correct position, '}\n",
      "{'role': 'system', 'content': '5 guesses exhausted! The correct answer is raise'}\n"
     ]
    }
   ],
   "source": [
    "for turn in conversation:\n",
    "    print(turn)"
   ]
  }
 ],
 "metadata": {
  "kernelspec": {
   "display_name": "Python 3 (ipykernel)",
   "language": "python",
   "name": "python3"
  },
  "language_info": {
   "codemirror_mode": {
    "name": "ipython",
    "version": 3
   },
   "file_extension": ".py",
   "mimetype": "text/x-python",
   "name": "python",
   "nbconvert_exporter": "python",
   "pygments_lexer": "ipython3",
   "version": "3.12.2"
  }
 },
 "nbformat": 4,
 "nbformat_minor": 4
}
