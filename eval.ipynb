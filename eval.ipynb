{
 "cells": [
  {
   "cell_type": "code",
   "execution_count": 77,
   "metadata": {},
   "outputs": [
    {
     "name": "stdout",
     "output_type": "stream",
     "text": [
      "The autoreload extension is already loaded. To reload it, use:\n",
      "  %reload_ext autoreload\n"
     ]
    }
   ],
   "source": [
    "%load_ext autoreload\n",
    "%autoreload 2\n",
    "import json\n",
    "import eval"
   ]
  },
  {
   "cell_type": "code",
   "execution_count": 82,
   "metadata": {},
   "outputs": [
    {
     "name": "stdout",
     "output_type": "stream",
     "text": [
      "50\n"
     ]
    },
    {
     "ename": "IndexError",
     "evalue": "list index out of range",
     "output_type": "error",
     "traceback": [
      "\u001b[0;31m---------------------------------------------------------------------------\u001b[0m",
      "\u001b[0;31mIndexError\u001b[0m                                Traceback (most recent call last)",
      "Cell \u001b[0;32mIn[82], line 8\u001b[0m\n\u001b[1;32m      4\u001b[0m     conversation_list \u001b[38;5;241m=\u001b[39m json\u001b[38;5;241m.\u001b[39mload(f_in)\n\u001b[1;32m      6\u001b[0m \u001b[38;5;28mprint\u001b[39m(\u001b[38;5;28mlen\u001b[39m(conversation_list))\n\u001b[0;32m----> 8\u001b[0m \u001b[38;5;28;43meval\u001b[39;49m\u001b[38;5;241;43m.\u001b[39;49m\u001b[43mget_aggregate_scores\u001b[49m\u001b[43m(\u001b[49m\u001b[43mconversation_list\u001b[49m\u001b[43m)\u001b[49m\n",
      "File \u001b[0;32m~/CS-263-Wordle/eval.py:206\u001b[0m, in \u001b[0;36mget_aggregate_scores\u001b[0;34m(conversation_list)\u001b[0m\n\u001b[1;32m    204\u001b[0m     \u001b[38;5;66;03m# print(np.array(eval_info_gain(c.guesses, c.correct_answer, word_list)))\u001b[39;00m\n\u001b[1;32m    205\u001b[0m     info_gain_stats \u001b[38;5;241m=\u001b[39m info_gain_stats \u001b[38;5;241m+\u001b[39m np\u001b[38;5;241m.\u001b[39marray(eval_info_gain(c\u001b[38;5;241m.\u001b[39mguesses, c\u001b[38;5;241m.\u001b[39mcorrect_answer, word_list)) \u001b[38;5;66;03m#element-wise addition\u001b[39;00m\n\u001b[0;32m--> 206\u001b[0m     end_letter_level_acc\u001b[38;5;241m.\u001b[39mappend(\u001b[43meval_num_correct_letters\u001b[49m\u001b[43m(\u001b[49m\u001b[43mc\u001b[49m\u001b[38;5;241;43m.\u001b[39;49m\u001b[43mguesses\u001b[49m\u001b[43m,\u001b[49m\u001b[43m \u001b[49m\u001b[43mc\u001b[49m\u001b[38;5;241;43m.\u001b[39;49m\u001b[43mcorrect_answer\u001b[49m\u001b[43m)\u001b[49m)\n\u001b[1;32m    208\u001b[0m G, Y, W \u001b[38;5;241m=\u001b[39m GYW[\u001b[38;5;241m0\u001b[39m], GYW[\u001b[38;5;241m1\u001b[39m], GYW[\u001b[38;5;241m2\u001b[39m]\n\u001b[1;32m    209\u001b[0m correct_pct \u001b[38;5;241m=\u001b[39m (G) \u001b[38;5;241m/\u001b[39m (G \u001b[38;5;241m+\u001b[39m Y \u001b[38;5;241m+\u001b[39m W)\n",
      "File \u001b[0;32m~/CS-263-Wordle/eval.py:25\u001b[0m, in \u001b[0;36meval_num_correct_letters\u001b[0;34m(guesses, answer)\u001b[0m\n\u001b[1;32m     23\u001b[0m \u001b[38;5;28;01mdef\u001b[39;00m \u001b[38;5;21meval_num_correct_letters\u001b[39m(guesses, answer):\n\u001b[1;32m     24\u001b[0m     \u001b[38;5;66;03m# how many letters in the final guess are correct\u001b[39;00m\n\u001b[0;32m---> 25\u001b[0m     final \u001b[38;5;241m=\u001b[39m \u001b[43mguesses\u001b[49m\u001b[43m[\u001b[49m\u001b[38;5;241;43m-\u001b[39;49m\u001b[38;5;241;43m1\u001b[39;49m\u001b[43m]\u001b[49m\n\u001b[1;32m     27\u001b[0m     num_correct \u001b[38;5;241m=\u001b[39m \u001b[38;5;241m0\u001b[39m\n\u001b[1;32m     28\u001b[0m     \u001b[38;5;28;01mfor\u001b[39;00m i \u001b[38;5;129;01min\u001b[39;00m \u001b[38;5;28mrange\u001b[39m(\u001b[38;5;28mlen\u001b[39m(answer)):\n",
      "\u001b[0;31mIndexError\u001b[0m: list index out of range"
     ]
    }
   ],
   "source": [
    "conv_path = 'conversations_zephyr_beta_4shot_50games.json'\n",
    "\n",
    "with open(conv_path, 'r') as f_in:\n",
    "    conversation_list = json.load(f_in)\n",
    "    \n",
    "print(len(conversation_list))\n",
    "\n",
    "eval.get_aggregate_scores(conversation_list)"
   ]
  },
  {
   "cell_type": "code",
   "execution_count": 67,
   "metadata": {},
   "outputs": [
    {
     "name": "stdout",
     "output_type": "stream",
     "text": [
      "28\n"
     ]
    }
   ],
   "source": [
    "# new_dict = {}\n",
    "\n",
    "# for key, value in conversation_list.items():\n",
    "#     if int(key) < 28:\n",
    "#         new_dict[key] = value\n",
    "\n",
    "# print(len(new_dict))\n",
    "\n",
    "# with open(conv_path, 'w') as f_out:\n",
    "#     conversation_list = json.dump(new_dict, f_out)"
   ]
  }
 ],
 "metadata": {
  "kernelspec": {
   "display_name": "wordle",
   "language": "python",
   "name": "python3"
  },
  "language_info": {
   "codemirror_mode": {
    "name": "ipython",
    "version": 3
   },
   "file_extension": ".py",
   "mimetype": "text/x-python",
   "name": "python",
   "nbconvert_exporter": "python",
   "pygments_lexer": "ipython3",
   "version": "3.10.14"
  }
 },
 "nbformat": 4,
 "nbformat_minor": 2
}
